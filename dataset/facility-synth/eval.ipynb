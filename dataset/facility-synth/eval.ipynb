{
 "cells": [
  {
   "cell_type": "code",
   "execution_count": null,
   "id": "39089a7a-5d24-4b41-bf54-99805bec1951",
   "metadata": {},
   "outputs": [],
   "source": [
    "from typing import Any, Dict\n",
    "import json\n",
    "\n",
    "def parse_json(input_string: str):\n",
    "    \"\"\"\n",
    "    Attempts to parse the given string as JSON. If direct parsing fails,\n",
    "    it tries to extract a JSON snippet from code blocks formatted as:\n",
    "        ```json\n",
    "        ... JSON content ...\n",
    "        ```\n",
    "    or any code block delimited by triple backticks and then parses that content.\n",
    "\n",
    "    Parameters:\n",
    "        input_string (str): The input string which may contain JSON.\n",
    "\n",
    "    Returns:\n",
    "        The parsed JSON object.\n",
    "\n",
    "    Raises:\n",
    "        ValueError: If parsing fails even after attempting to extract a JSON snippet.\n",
    "    \"\"\"\n",
    "    # Try to parse the string directly.\n",
    "    try:\n",
    "        return json.loads(input_string)\n",
    "    except json.JSONDecodeError as err:\n",
    "        error = err  # Proceed to try extracting a JSON snippet.\n",
    "\n",
    "    # Define patterns to search for a JSON code block.\n",
    "    patterns = [\n",
    "        re.compile(r\"```json\\s*(.*?)\\s*```\", re.DOTALL | re.IGNORECASE),  # code block with \"json\" label\n",
    "        re.compile(r\"```(.*?)```\", re.DOTALL)  # any code block delimited by triple backticks\n",
    "    ]\n",
    "    \n",
    "    # Attempt extraction using each pattern in order.\n",
    "    for pattern in patterns:\n",
    "        match = pattern.search(input_string)\n",
    "        if match:\n",
    "            json_candidate = match.group(1).strip()\n",
    "            try:\n",
    "                return json.loads(json_candidate)\n",
    "            except json.JSONDecodeError:\n",
    "                # Continue trying if extraction from the code block didn't result in valid JSON.\n",
    "                continue\n",
    "\n",
    "    # If all attempts fail, raise an error.\n",
    "    raise error\n",
    "\n",
    "\n",
    "def evaluate(ground_truth: Any, predictions: Any, strict_json: bool = True) -> Dict[str, Any]:\n",
    "    result = {\n",
    "        \"is_valid_json\": False,\n",
    "        \"correct_categories\": 0.,\n",
    "        \"correct_sentiment\": False,\n",
    "        \"correct_urgency\": False,\n",
    "    }\n",
    "    try:\n",
    "        ground_truth = ground_truth if isinstance(ground_truth, dict) else (json.loads(ground_truth) if strict_json else parse_json(ground_truth))\n",
    "        predictions = predictions if isinstance(predictions, dict) else (json.loads(predictions) if strict_json else parse_json(predictions))\n",
    "    except json.JSONDecodeError:\n",
    "        pass\n",
    "    else:\n",
    "        result[\"is_valid_json\"] = True\n",
    "        result[\"correct_categories\"] = sum([ground_truth[\"categories\"][k] == predictions[\"categories\"][k] for k in ground_truth[\"categories\"].keys()]) / len(ground_truth[\"categories\"])\n",
    "        result[\"correct_sentiment\"] = predictions[\"sentiment\"] == ground_truth[\"sentiment\"]\n",
    "        result[\"correct_urgency\"] = predictions[\"urgency\"] == ground_truth[\"urgency\"]\n",
    "    result[\"total\"] = sum([float(v) for k, v in result.items() if k.startswith('correct_')]) / len([k for k in result.keys() if k.startswith('correct')])\n",
    "    return result"
   ]
  },
  {
   "cell_type": "code",
   "execution_count": null,
   "id": "6a447f4a-5aac-4f85-8393-6f9bade1ce30",
   "metadata": {},
   "outputs": [],
   "source": [
    "import yaml\n",
    "\n",
    "with open('facility_v2_train.json') as stream:\n",
    "    dataset = json.load(stream)\n",
    "\n",
    "with open('facility_prompt.yaml') as stream:\n",
    "    prompt = yaml.safe_load(stream)    "
   ]
  },
  {
   "cell_type": "code",
   "execution_count": null,
   "id": "ba35209a-c778-4d9b-a575-a27bb9078caf",
   "metadata": {},
   "outputs": [],
   "source": [
    "dataset_test = dataset[int(len(dataset)*0.7):]\n",
    "len(dataset_test)"
   ]
  },
  {
   "cell_type": "code",
   "execution_count": null,
   "id": "07f83eb5-a957-4f77-b6c9-fdd943f58cc2",
   "metadata": {},
   "outputs": [],
   "source": [
    "# from openai import OpenAI\n",
    "from gen_ai_hub.proxy.native.openai import OpenAI"
   ]
  },
  {
   "cell_type": "code",
   "execution_count": null,
   "id": "3f5e7904-2ca8-4784-9937-6fa824b3d109",
   "metadata": {},
   "outputs": [],
   "source": [
    "client = OpenAI()"
   ]
  },
  {
   "cell_type": "code",
   "execution_count": null,
   "id": "e68c6fd3-b191-47e4-9d18-9fa1596ecb50",
   "metadata": {},
   "outputs": [],
   "source": [
    "from tqdm.auto import tqdm\n",
    "\n",
    "result = []\n",
    "\n",
    "for entry in tqdm(dataset_test):\n",
    "    output = client.chat.completions.create(\n",
    "        model=\"gpt-4o\",\n",
    "        messages=[\n",
    "            {\"role\": \"system\", \"content\": prompt[\"system\"]},\n",
    "            {\"role\": \"user\", \"content\": prompt[\"user\"].format(**entry[\"fields\"])},\n",
    "        ],\n",
    "        temperature=0.\n",
    "    )\n",
    "    prediction = output.choices[0].message.content\n",
    "    result.append(evaluate(entry[\"answer\"], prediction))\n",
    "\n",
    "    "
   ]
  },
  {
   "cell_type": "code",
   "execution_count": null,
   "id": "b4759a80-5822-4190-adad-8f78eed0a564",
   "metadata": {},
   "outputs": [],
   "source": [
    "float_keys = [k for k, v in result[0].items() if isinstance(v, (int, float, bool))]\n",
    "{k: sum([e[k] for e in result])/len(result) for k in float_keys}"
   ]
  },
  {
   "cell_type": "code",
   "execution_count": null,
   "id": "baf28a90-19a6-44c7-af1d-125b01cf21fa",
   "metadata": {},
   "outputs": [],
   "source": [
    "# gpt-4o -> {'is_valid_json': 0.967, 'correct_categories': 0.895, 'correct_sentiment': 0.517, 'correct_urgency': 0.767, 'total': 0.726}"
   ]
  },
  {
   "cell_type": "code",
   "execution_count": null,
   "id": "f751aad4-c534-4f9c-a3c2-fffc06a1c485",
   "metadata": {},
   "outputs": [],
   "source": []
  }
 ],
 "metadata": {
  "kernelspec": {
   "display_name": "Python 3 (ipykernel)",
   "language": "python",
   "name": "python3"
  },
  "language_info": {
   "codemirror_mode": {
    "name": "ipython",
    "version": 3
   },
   "file_extension": ".py",
   "mimetype": "text/x-python",
   "name": "python",
   "nbconvert_exporter": "python",
   "pygments_lexer": "ipython3",
   "version": "3.11.11"
  }
 },
 "nbformat": 4,
 "nbformat_minor": 5
}
